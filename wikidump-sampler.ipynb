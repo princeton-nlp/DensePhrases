{
 "cells": [
  {
   "cell_type": "code",
   "execution_count": null,
   "id": "5ce22a39",
   "metadata": {
    "nterop": {
     "id": "1"
    }
   },
   "outputs": [],
   "source": [
    "import glob\n",
    "import json\n",
    "import pickle as pkl\n",
    "import pandas as pd\n",
    "\n",
    "from densePhrases.scripts.sampler import QAWikiDumpSampler"
   ]
  },
  {
   "attachments": {},
   "cell_type": "markdown",
   "id": "bfaf6e45",
   "metadata": {
    "nterop": {
     "id": "2"
    }
   },
   "source": [
    "### params"
   ]
  },
  {
   "cell_type": "code",
   "execution_count": 2,
   "id": "9c2187ee",
   "metadata": {
    "nterop": {
     "id": "3"
    }
   },
   "outputs": [],
   "source": [
    "opennq_path = 'train_preprocessed.json'\n",
    "wiki_dev_path = 'dev_wiki'\n",
    "wiki_full_path = '/data/dph-data/wikidump/20181220_concat'\n",
    "wiki_cache = 'wiki_cache'"
   ]
  },
  {
   "attachments": {},
   "cell_type": "markdown",
   "id": "57a6c7d0",
   "metadata": {
    "nterop": {
     "id": "4"
    }
   },
   "source": [
    "### Process 1/100th of Wikipedia"
   ]
  },
  {
   "cell_type": "code",
   "execution_count": 3,
   "id": "2ac35412",
   "metadata": {
    "nterop": {
     "id": "5"
    }
   },
   "outputs": [
    {
     "name": "stdout",
     "output_type": "stream",
     "text": [
      "reading QA dataset into a dataframe...\n",
      "QA df has 79168 rows\n",
      "reading wiki dump into a dataframe...\n",
      "wiki df has 129730 rows\n",
      "run `build_index` next before running queries\n",
      "CPU times: user 1.46 s, sys: 151 ms, total: 1.61 s\n",
      "Wall time: 1.64 s\n"
     ]
    }
   ],
   "source": [
    "%%time\n",
    "sampler_dev = QAWikiDumpSampler(\n",
    "    path_qa=opennq_path,\n",
    "    path_wiki=wiki_dev_path,\n",
    "    path_cache='wiki_cache_dev',\n",
    ")"
   ]
  },
  {
   "cell_type": "code",
   "execution_count": 17,
   "id": "2d3d32b6",
   "metadata": {
    "nterop": {
     "id": "6"
    }
   },
   "outputs": [
    {
     "name": "stdout",
     "output_type": "stream",
     "text": [
      "building BM25 index of the wiki paragraphs\n",
      "done building the index. you can use the `query` method now.\n",
      "CPU times: user 28.6 s, sys: 408 ms, total: 29 s\n",
      "Wall time: 29 s\n"
     ]
    }
   ],
   "source": [
    "%%time\n",
    "# build index\n",
    "sampler_dev.build_index()"
   ]
  },
  {
   "attachments": {},
   "cell_type": "markdown",
   "id": "ae0a7a59",
   "metadata": {
    "nterop": {
     "id": "7"
    }
   },
   "source": [
    "### Natural Questions data"
   ]
  },
  {
   "cell_type": "code",
   "execution_count": 8,
   "id": "48635dc1",
   "metadata": {
    "nterop": {
     "id": "8"
    }
   },
   "outputs": [
    {
     "data": {
      "text/plain": [
       "79168"
      ]
     },
     "execution_count": 8,
     "metadata": {
      "nterop": {
       "id": "9"
      }
     },
     "output_type": "execute_result"
    }
   ],
   "source": [
    "df_nq = sampler_dev.df_qa\n",
    "len(df_nq)"
   ]
  },
  {
   "cell_type": "code",
   "execution_count": 9,
   "id": "e9a6f767",
   "metadata": {
    "nterop": {
     "id": "10"
    }
   },
   "outputs": [
    {
     "data": {
      "text/plain": [
       "96676"
      ]
     },
     "execution_count": 9,
     "metadata": {
      "nterop": {
       "id": "11"
      }
     },
     "output_type": "execute_result"
    }
   ],
   "source": [
    "df_nq.answer_cnt.sum()"
   ]
  },
  {
   "cell_type": "code",
   "execution_count": 10,
   "id": "b0e80f1c",
   "metadata": {
    "nterop": {
     "id": "12"
    }
   },
   "outputs": [
    {
     "data": {
      "text/html": [
       "<div>\n",
       "<style scoped>\n",
       "    .dataframe tbody tr th:only-of-type {\n",
       "        vertical-align: middle;\n",
       "    }\n",
       "\n",
       "    .dataframe tbody tr th {\n",
       "        vertical-align: top;\n",
       "    }\n",
       "\n",
       "    .dataframe thead th {\n",
       "        text-align: right;\n",
       "    }\n",
       "</style>\n",
       "<table border=\"1\" class=\"dataframe\">\n",
       "  <thead>\n",
       "    <tr style=\"text-align: right;\">\n",
       "      <th></th>\n",
       "      <th>id</th>\n",
       "      <th>question</th>\n",
       "      <th>answer_cnt</th>\n",
       "      <th>answers</th>\n",
       "    </tr>\n",
       "  </thead>\n",
       "  <tbody>\n",
       "    <tr>\n",
       "      <th>937</th>\n",
       "      <td>train_937</td>\n",
       "      <td>what side of the road to they drive on in aust...</td>\n",
       "      <td>1</td>\n",
       "      <td>[on the left]</td>\n",
       "    </tr>\n",
       "    <tr>\n",
       "      <th>46520</th>\n",
       "      <td>train_46520</td>\n",
       "      <td>who wrote the song when we by tank</td>\n",
       "      <td>3</td>\n",
       "      <td>[Carl McCormick, Johnnie Newt, Durrell Babbs]</td>\n",
       "    </tr>\n",
       "    <tr>\n",
       "      <th>65747</th>\n",
       "      <td>train_65747</td>\n",
       "      <td>when does the new series of ex on the beach st...</td>\n",
       "      <td>1</td>\n",
       "      <td>[20 March 2018]</td>\n",
       "    </tr>\n",
       "    <tr>\n",
       "      <th>17428</th>\n",
       "      <td>train_17428</td>\n",
       "      <td>who played uncle arthur in the comedy company</td>\n",
       "      <td>1</td>\n",
       "      <td>[Glenn Robbins]</td>\n",
       "    </tr>\n",
       "    <tr>\n",
       "      <th>32582</th>\n",
       "      <td>train_32582</td>\n",
       "      <td>where do chicken wings and drumettes come from</td>\n",
       "      <td>1</td>\n",
       "      <td>[chicken wing section]</td>\n",
       "    </tr>\n",
       "    <tr>\n",
       "      <th>64736</th>\n",
       "      <td>train_64736</td>\n",
       "      <td>where is pepsin most active in the body</td>\n",
       "      <td>1</td>\n",
       "      <td>[stomach]</td>\n",
       "    </tr>\n",
       "    <tr>\n",
       "      <th>50023</th>\n",
       "      <td>train_50023</td>\n",
       "      <td>surname of woman who owns pie shop in sweeny todd</td>\n",
       "      <td>1</td>\n",
       "      <td>[Lovett]</td>\n",
       "    </tr>\n",
       "    <tr>\n",
       "      <th>54540</th>\n",
       "      <td>train_54540</td>\n",
       "      <td>who is the actress who plays alex on big bang ...</td>\n",
       "      <td>1</td>\n",
       "      <td>[Margo Cathleen Harshman]</td>\n",
       "    </tr>\n",
       "    <tr>\n",
       "      <th>16277</th>\n",
       "      <td>train_16277</td>\n",
       "      <td>where is white matter located in spinal cord</td>\n",
       "      <td>1</td>\n",
       "      <td>[superficial parts]</td>\n",
       "    </tr>\n",
       "    <tr>\n",
       "      <th>16202</th>\n",
       "      <td>train_16202</td>\n",
       "      <td>who sings the theme song for touched by an angel</td>\n",
       "      <td>1</td>\n",
       "      <td>[Della Reese]</td>\n",
       "    </tr>\n",
       "  </tbody>\n",
       "</table>\n",
       "</div>"
      ],
      "text/plain": [
       "                id                                           question  \\\n",
       "937      train_937  what side of the road to they drive on in aust...   \n",
       "46520  train_46520                 who wrote the song when we by tank   \n",
       "65747  train_65747  when does the new series of ex on the beach st...   \n",
       "17428  train_17428      who played uncle arthur in the comedy company   \n",
       "32582  train_32582     where do chicken wings and drumettes come from   \n",
       "64736  train_64736            where is pepsin most active in the body   \n",
       "50023  train_50023  surname of woman who owns pie shop in sweeny todd   \n",
       "54540  train_54540  who is the actress who plays alex on big bang ...   \n",
       "16277  train_16277       where is white matter located in spinal cord   \n",
       "16202  train_16202   who sings the theme song for touched by an angel   \n",
       "\n",
       "       answer_cnt                                        answers  \n",
       "937             1                                  [on the left]  \n",
       "46520           3  [Carl McCormick, Johnnie Newt, Durrell Babbs]  \n",
       "65747           1                                [20 March 2018]  \n",
       "17428           1                                [Glenn Robbins]  \n",
       "32582           1                         [chicken wing section]  \n",
       "64736           1                                      [stomach]  \n",
       "50023           1                                       [Lovett]  \n",
       "54540           1                      [Margo Cathleen Harshman]  \n",
       "16277           1                            [superficial parts]  \n",
       "16202           1                                  [Della Reese]  "
      ]
     },
     "execution_count": 10,
     "metadata": {
      "nterop": {
       "id": "13"
      }
     },
     "output_type": "execute_result"
    }
   ],
   "source": [
    "df_nq.sample(n=10, random_state=0)"
   ]
  },
  {
   "attachments": {},
   "cell_type": "markdown",
   "id": "62fbc08f",
   "metadata": {
    "nterop": {
     "id": "14"
    }
   },
   "source": [
    "#### Questions can have multiple answers!"
   ]
  },
  {
   "cell_type": "code",
   "execution_count": 11,
   "id": "da4b2fa5",
   "metadata": {
    "nterop": {
     "id": "15"
    }
   },
   "outputs": [
    {
     "data": {
      "image/png": "[encoded data removed]",
      "text/plain": [
       "<Figure size 432x288 with 1 Axes>"
      ]
     },
     "metadata": {
      "needs_background": "light",
      "nterop": {
       "id": "16"
      }
     },
     "output_type": "display_data"
    }
   ],
   "source": [
    "_ = df_nq.answer_cnt.hist()"
   ]
  },
  {
   "attachments": {},
   "cell_type": "markdown",
   "id": "99f3b236",
   "metadata": {
    "nterop": {
     "id": "17"
    }
   },
   "source": [
    "### wiki dump"
   ]
  },
  {
   "cell_type": "code",
   "execution_count": 13,
   "id": "d37e2674",
   "metadata": {
    "nterop": {
     "id": "18"
    }
   },
   "outputs": [
    {
     "data": {
      "text/plain": [
       "count    129730.000000\n",
       "mean         42.838973\n",
       "std          33.365861\n",
       "min           1.000000\n",
       "25%          18.000000\n",
       "50%          35.000000\n",
       "75%          58.000000\n",
       "max         206.000000\n",
       "Name: paragraph_cnt, dtype: float64"
      ]
     },
     "execution_count": 13,
     "metadata": {
      "nterop": {
       "id": "19"
      }
     },
     "output_type": "execute_result"
    }
   ],
   "source": [
    "df_wiki_dev = sampler_dev.df_wiki\n",
    "df_wiki_dev.paragraph_cnt.describe()"
   ]
  },
  {
   "cell_type": "code",
   "execution_count": 15,
   "id": "078323fb",
   "metadata": {
    "nterop": {
     "id": "20"
    }
   },
   "outputs": [
    {
     "data": {
      "text/html": [
       "<div>\n",
       "<style scoped>\n",
       "    .dataframe tbody tr th:only-of-type {\n",
       "        vertical-align: middle;\n",
       "    }\n",
       "\n",
       "    .dataframe tbody tr th {\n",
       "        vertical-align: top;\n",
       "    }\n",
       "\n",
       "    .dataframe thead th {\n",
       "        text-align: right;\n",
       "    }\n",
       "</style>\n",
       "<table border=\"1\" class=\"dataframe\">\n",
       "  <thead>\n",
       "    <tr style=\"text-align: right;\">\n",
       "      <th></th>\n",
       "      <th>file</th>\n",
       "      <th>file_idx</th>\n",
       "      <th>article_idx</th>\n",
       "      <th>paragraph_idx</th>\n",
       "      <th>title</th>\n",
       "      <th>paragraph_cnt</th>\n",
       "      <th>paragraph</th>\n",
       "      <th>paragraph_char_cnt</th>\n",
       "    </tr>\n",
       "  </thead>\n",
       "  <tbody>\n",
       "    <tr>\n",
       "      <th>44091</th>\n",
       "      <td>dev_wiki/0002</td>\n",
       "      <td>2</td>\n",
       "      <td>417</td>\n",
       "      <td>23</td>\n",
       "      <td>Dutch language</td>\n",
       "      <td>69</td>\n",
       "      <td>Limburgish has the status of official regiona...</td>\n",
       "      <td>711</td>\n",
       "    </tr>\n",
       "    <tr>\n",
       "      <th>1665</th>\n",
       "      <td>dev_wiki/0000</td>\n",
       "      <td>0</td>\n",
       "      <td>84</td>\n",
       "      <td>21</td>\n",
       "      <td>History of construction</td>\n",
       "      <td>47</td>\n",
       "      <td>Vitruvius gives details of many Roman machine...</td>\n",
       "      <td>1052</td>\n",
       "    </tr>\n",
       "    <tr>\n",
       "      <th>65279</th>\n",
       "      <td>dev_wiki/0003</td>\n",
       "      <td>3</td>\n",
       "      <td>582</td>\n",
       "      <td>23</td>\n",
       "      <td>Continent</td>\n",
       "      <td>28</td>\n",
       "      <td>Some argue that continents are accretionary c...</td>\n",
       "      <td>649</td>\n",
       "    </tr>\n",
       "  </tbody>\n",
       "</table>\n",
       "</div>"
      ],
      "text/plain": [
       "                file  file_idx  article_idx  paragraph_idx  \\\n",
       "44091  dev_wiki/0002         2          417             23   \n",
       "1665   dev_wiki/0000         0           84             21   \n",
       "65279  dev_wiki/0003         3          582             23   \n",
       "\n",
       "                         title  paragraph_cnt  \\\n",
       "44091           Dutch language             69   \n",
       "1665   History of construction             47   \n",
       "65279                Continent             28   \n",
       "\n",
       "                                               paragraph  paragraph_char_cnt  \n",
       "44091   Limburgish has the status of official regiona...                 711  \n",
       "1665    Vitruvius gives details of many Roman machine...                1052  \n",
       "65279   Some argue that continents are accretionary c...                 649  "
      ]
     },
     "execution_count": 15,
     "metadata": {
      "nterop": {
       "id": "21"
      }
     },
     "output_type": "execute_result"
    }
   ],
   "source": [
    "df_wiki_dev.sample(3, random_state=0)"
   ]
  },
  {
   "cell_type": "code",
   "execution_count": 16,
   "id": "f6f78ae7",
   "metadata": {
    "nterop": {
     "id": "22"
    }
   },
   "outputs": [
    {
     "data": {
      "text/plain": [
       "List of Madagascar (franchise) characters    206\n",
       "Economic history of the United States        195\n",
       "List of Kung Fu Panda characters             190\n",
       "Reconstruction Era                           188\n",
       "Iran–Iraq War                                175\n",
       "                                            ... \n",
       "List of governors of Jammu and Kashmir         1\n",
       "Dog (zodiac)                                   1\n",
       "2013 US Open – Women's Singles                 1\n",
       "List of cities in Andhra Pradesh               1\n",
       "List of most-followed Instagram accounts       1\n",
       "Name: title, Length: 7136, dtype: int64"
      ]
     },
     "execution_count": 16,
     "metadata": {
      "nterop": {
       "id": "23"
      }
     },
     "output_type": "execute_result"
    }
   ],
   "source": [
    "df_wiki_dev.title.value_counts()"
   ]
  },
  {
   "cell_type": "code",
   "execution_count": 18,
   "id": "3e9af362",
   "metadata": {
    "nterop": {
     "id": "24"
    }
   },
   "outputs": [
    {
     "data": {
      "text/html": [
       "<div>\n",
       "<style scoped>\n",
       "    .dataframe tbody tr th:only-of-type {\n",
       "        vertical-align: middle;\n",
       "    }\n",
       "\n",
       "    .dataframe tbody tr th {\n",
       "        vertical-align: top;\n",
       "    }\n",
       "\n",
       "    .dataframe thead th {\n",
       "        text-align: right;\n",
       "    }\n",
       "</style>\n",
       "<table border=\"1\" class=\"dataframe\">\n",
       "  <thead>\n",
       "    <tr style=\"text-align: right;\">\n",
       "      <th></th>\n",
       "      <th>file</th>\n",
       "      <th>file_idx</th>\n",
       "      <th>article_idx</th>\n",
       "      <th>paragraph_idx</th>\n",
       "      <th>title</th>\n",
       "      <th>paragraph_cnt</th>\n",
       "      <th>paragraph</th>\n",
       "      <th>paragraph_char_cnt</th>\n",
       "    </tr>\n",
       "  </thead>\n",
       "  <tbody>\n",
       "    <tr>\n",
       "      <th>1896</th>\n",
       "      <td>dev_wiki/0000</td>\n",
       "      <td>0</td>\n",
       "      <td>93</td>\n",
       "      <td>59</td>\n",
       "      <td>List of Kung Fu Panda characters</td>\n",
       "      <td>190</td>\n",
       "      <td>Master Sheep is a Kung Fu Master who was amon...</td>\n",
       "      <td>629</td>\n",
       "    </tr>\n",
       "    <tr>\n",
       "      <th>1897</th>\n",
       "      <td>dev_wiki/0000</td>\n",
       "      <td>0</td>\n",
       "      <td>93</td>\n",
       "      <td>60</td>\n",
       "      <td>List of Kung Fu Panda characters</td>\n",
       "      <td>190</td>\n",
       "      <td>Master Dolphin is a dolphin who was reference...</td>\n",
       "      <td>550</td>\n",
       "    </tr>\n",
       "    <tr>\n",
       "      <th>2003</th>\n",
       "      <td>dev_wiki/0000</td>\n",
       "      <td>0</td>\n",
       "      <td>93</td>\n",
       "      <td>166</td>\n",
       "      <td>List of Kung Fu Panda characters</td>\n",
       "      <td>190</td>\n",
       "      <td>Sum is a giant panda that appears in \"Kung Fu...</td>\n",
       "      <td>537</td>\n",
       "    </tr>\n",
       "    <tr>\n",
       "      <th>22374</th>\n",
       "      <td>dev_wiki/0001</td>\n",
       "      <td>1</td>\n",
       "      <td>166</td>\n",
       "      <td>10</td>\n",
       "      <td>The Karate Kid (2010 film)</td>\n",
       "      <td>18</td>\n",
       "      <td>Despite maintaining the original title, the 2...</td>\n",
       "      <td>612</td>\n",
       "    </tr>\n",
       "    <tr>\n",
       "      <th>1891</th>\n",
       "      <td>dev_wiki/0000</td>\n",
       "      <td>0</td>\n",
       "      <td>93</td>\n",
       "      <td>54</td>\n",
       "      <td>List of Kung Fu Panda characters</td>\n",
       "      <td>190</td>\n",
       "      <td>Master Leopard is a Kung Fu Master who is bri...</td>\n",
       "      <td>596</td>\n",
       "    </tr>\n",
       "  </tbody>\n",
       "</table>\n",
       "</div>"
      ],
      "text/plain": [
       "                file  file_idx  article_idx  paragraph_idx  \\\n",
       "1896   dev_wiki/0000         0           93             59   \n",
       "1897   dev_wiki/0000         0           93             60   \n",
       "2003   dev_wiki/0000         0           93            166   \n",
       "22374  dev_wiki/0001         1          166             10   \n",
       "1891   dev_wiki/0000         0           93             54   \n",
       "\n",
       "                                  title  paragraph_cnt  \\\n",
       "1896   List of Kung Fu Panda characters            190   \n",
       "1897   List of Kung Fu Panda characters            190   \n",
       "2003   List of Kung Fu Panda characters            190   \n",
       "22374        The Karate Kid (2010 film)             18   \n",
       "1891   List of Kung Fu Panda characters            190   \n",
       "\n",
       "                                               paragraph  paragraph_char_cnt  \n",
       "1896    Master Sheep is a Kung Fu Master who was amon...                 629  \n",
       "1897    Master Dolphin is a dolphin who was reference...                 550  \n",
       "2003    Sum is a giant panda that appears in \"Kung Fu...                 537  \n",
       "22374   Despite maintaining the original title, the 2...                 612  \n",
       "1891    Master Leopard is a Kung Fu Master who is bri...                 596  "
      ]
     },
     "execution_count": 18,
     "metadata": {
      "nterop": {
       "id": "25"
      }
     },
     "output_type": "execute_result"
    }
   ],
   "source": [
    "sampler_dev.query('kung fu', top_n=5)"
   ]
  },
  {
   "cell_type": "code",
   "execution_count": 21,
   "id": "3be69312",
   "metadata": {
    "nterop": {
     "id": "26"
    }
   },
   "outputs": [
    {
     "data": {
      "text/plain": [
       "1994"
      ]
     },
     "execution_count": 21,
     "metadata": {
      "nterop": {
       "id": "27"
      }
     },
     "output_type": "execute_result"
    }
   ],
   "source": [
    "# process 10 questions\n",
    "res = sampler_dev.process_queries(n=10, n_jobs=-1)\n",
    "res.paragraph_cnt"
   ]
  },
  {
   "cell_type": "code",
   "execution_count": 22,
   "id": "0addbbc7",
   "metadata": {
    "nterop": {
     "id": "28"
    }
   },
   "outputs": [
    {
     "data": {
      "text/plain": [
       "1137"
      ]
     },
     "execution_count": 22,
     "metadata": {
      "nterop": {
       "id": "29"
      }
     },
     "output_type": "execute_result"
    }
   ],
   "source": [
    "res.article_cnt"
   ]
  },
  {
   "attachments": {},
   "cell_type": "markdown",
   "id": "6ba368d8",
   "metadata": {
    "nterop": {
     "id": "30"
    }
   },
   "source": [
    "### Process full Wiki dump"
   ]
  },
  {
   "cell_type": "code",
   "execution_count": null,
   "id": "b30a7aad",
   "metadata": {
    "nterop": {
     "id": "31"
    }
   },
   "outputs": [],
   "source": [
    "# this will take about an hour and consume ~50GB of memory\n",
    "# it's single-threaded :(\n",
    "# %%time\n",
    "# sampler = QAWikiDumpSampler(\n",
    "#     path_qa=opennq_path,\n",
    "#     path_wiki=wiki_full_path,\n",
    "#     path_cache='wiki_cache',\n",
    "#     clear_cache=True,\n",
    "# )\n",
    "# sample.build_index()"
   ]
  },
  {
   "cell_type": "code",
   "execution_count": null,
   "id": "ac41e75e",
   "metadata": {
    "nterop": {
     "id": "32"
    }
   },
   "outputs": [],
   "source": [
    "# takes ~6 hours on a machine with 64 cores\n",
    "# peak memory is < 100GB\n",
    "# matches = sampler.write_wiki_dump(\n",
    "#     n=7_500,  # processes 7,500 questions\n",
    "#     cache=True,\n",
    "#     n_jobs=64,\n",
    "#     match_pkl_path: str = \"wiki_matches.pkl\"  # pickle `matches`\n",
    "#     dump_folder=\"wiki_dump\",  # write to this folder\n",
    "#     dump_chunk_size=1_000,  # each file is 1,000 articles\n",
    "# )"
   ]
  },
  {
   "cell_type": "code",
   "execution_count": 45,
   "id": "b4d060cf",
   "metadata": {
    "nterop": {
     "id": "33"
    }
   },
   "outputs": [
    {
     "name": "stdout",
     "output_type": "stream",
     "text": [
      "total 868M\r\n",
      "-rw-r--r-- 1 root root  1.3M May 28 00:23 0\r\n",
      "-rw-r--r-- 1 root root  1.3M May 28 00:23 1\r\n",
      "-rw-r--r-- 1 root root  1.3M May 28 00:23 10\r\n",
      "-rw-r--r-- 1 root root  1.2M May 28 00:24 100\r\n",
      "-rw-r--r-- 1 root root  1.3M May 28 00:24 101\r\n",
      "-rw-r--r-- 1 root root  1.2M May 28 00:24 102\r\n",
      "-rw-r--r-- 1 root root  1.3M May 28 00:24 103\r\n",
      "-rw-r--r-- 1 root root  1.2M May 28 00:24 104\r\n",
      "-rw-r--r-- 1 root root  1.2M May 28 00:24 105\r\n",
      "ls: write error: Broken pipe\r\n"
     ]
    }
   ],
   "source": [
    "!ls -lh wiki_dump | head"
   ]
  },
  {
   "attachments": {},
   "cell_type": "markdown",
   "id": "904d6dcd",
   "metadata": {
    "nterop": {
     "id": "34"
    }
   },
   "source": [
    "### sample file"
   ]
  },
  {
   "cell_type": "code",
   "execution_count": 26,
   "id": "3fe4b673",
   "metadata": {
    "nterop": {
     "id": "35"
    }
   },
   "outputs": [
    {
     "data": {
      "text/plain": [
       "1000"
      ]
     },
     "execution_count": 26,
     "metadata": {
      "nterop": {
       "id": "36"
      }
     },
     "output_type": "execute_result"
    }
   ],
   "source": [
    "data0 = json.load(open('wiki_dump/0'))\n",
    "len(data0['data'])"
   ]
  },
  {
   "cell_type": "code",
   "execution_count": 27,
   "id": "6eadb9d0",
   "metadata": {
    "nterop": {
     "id": "37"
    }
   },
   "outputs": [
    {
     "data": {
      "text/plain": [
       "{'title': 'Ochlodes yuma',\n",
       " 'paragraphs': [{'context': ' Ochlodes yuma, the Yuma skipper, is a species of grass skipper in the family of butterflies known as Hesperiidae. It is found in North America. The MONA or Hodges number for \"Ochlodes yuma\" is 4057. These five subspecies belong to the species \"Ochlodes yuma\":'}]}"
      ]
     },
     "execution_count": 27,
     "metadata": {
      "nterop": {
       "id": "38"
      }
     },
     "output_type": "execute_result"
    }
   ],
   "source": [
    "data0['data'][0]"
   ]
  },
  {
   "cell_type": "code",
   "execution_count": 29,
   "id": "560c91e4",
   "metadata": {
    "nterop": {
     "id": "39"
    }
   },
   "outputs": [
    {
     "data": {
      "text/plain": [
       "{'title': 'Ocho apellidos vascos',\n",
       " 'paragraphs': [{'context': ' The weekend of its premiere, the film gathered an audience of 404,020 which resulted in box office grossing of 2.72 million euros. On its second weekend its grossing increased by 56%, third best behind \"The Impossible\" and \"Avatar\" in its first ten days with a total 4.4 million euros. By April it became the most watched Spanish film in Spain with more than 6.5 million viewers and the second film with the greatest box office grossing in Spain, only behind \"Avatar\", with a box-office of more than 45 million euros (more than 62 millon dollars). It has grossed in Spain and a total of internationally.'}]}"
      ]
     },
     "execution_count": 29,
     "metadata": {
      "nterop": {
       "id": "40"
      }
     },
     "output_type": "execute_result"
    }
   ],
   "source": [
    "data0['data'][2]"
   ]
  },
  {
   "attachments": {},
   "cell_type": "markdown",
   "id": "bc71f17f",
   "metadata": {
    "nterop": {
     "id": "41"
    }
   },
   "source": [
    "### number of files"
   ]
  },
  {
   "cell_type": "code",
   "execution_count": 34,
   "id": "7f76ab5e",
   "metadata": {
    "nterop": {
     "id": "42"
    }
   },
   "outputs": [],
   "source": [
    "article_cnts = pd.Series(\n",
    "    len(json.load(open(file))['data'])\n",
    "    for file in glob.glob('wiki_dump/*')\n",
    ")"
   ]
  },
  {
   "cell_type": "code",
   "execution_count": 47,
   "id": "7e6abf76",
   "metadata": {
    "nterop": {
     "id": "43"
    }
   },
   "outputs": [
    {
     "data": {
      "text/plain": [
       "696"
      ]
     },
     "execution_count": 47,
     "metadata": {
      "nterop": {
       "id": "44"
      }
     },
     "output_type": "execute_result"
    }
   ],
   "source": [
    "len(article_cnts)"
   ]
  },
  {
   "cell_type": "code",
   "execution_count": 36,
   "id": "9fa31420",
   "metadata": {
    "nterop": {
     "id": "45"
    }
   },
   "outputs": [
    {
     "data": {
      "text/plain": [
       "count     696.000000\n",
       "mean      998.915230\n",
       "std        28.618201\n",
       "min       245.000000\n",
       "25%      1000.000000\n",
       "50%      1000.000000\n",
       "75%      1000.000000\n",
       "max      1000.000000\n",
       "dtype: float64"
      ]
     },
     "execution_count": 36,
     "metadata": {
      "nterop": {
       "id": "46"
      }
     },
     "output_type": "execute_result"
    }
   ],
   "source": [
    "article_cnts.describe()"
   ]
  },
  {
   "cell_type": "code",
   "execution_count": 35,
   "id": "58f73113",
   "metadata": {
    "nterop": {
     "id": "47"
    }
   },
   "outputs": [],
   "source": [
    "paragraph_cnts = pd.Series(\n",
    "    len(article['paragraphs'])\n",
    "    for file in glob.glob('wiki_dump/*')\n",
    "    for article in json.load(open(file))['data']\n",
    ")"
   ]
  },
  {
   "cell_type": "code",
   "execution_count": 43,
   "id": "7468c172",
   "metadata": {
    "nterop": {
     "id": "48"
    }
   },
   "outputs": [],
   "source": [
    "assert len(paragraph_cnts) == 695245"
   ]
  },
  {
   "cell_type": "code",
   "execution_count": 40,
   "id": "d7877d58",
   "metadata": {
    "nterop": {
     "id": "49"
    }
   },
   "outputs": [
    {
     "data": {
      "text/plain": [
       "count    695245.000000\n",
       "mean          1.580833\n",
       "std           1.757483\n",
       "min           1.000000\n",
       "25%           1.000000\n",
       "50%           1.000000\n",
       "75%           2.000000\n",
       "max         140.000000\n",
       "dtype: float64"
      ]
     },
     "execution_count": 40,
     "metadata": {
      "nterop": {
       "id": "50"
      }
     },
     "output_type": "execute_result"
    }
   ],
   "source": [
    "paragraph_cnts.describe()"
   ]
  },
  {
   "cell_type": "code",
   "execution_count": 48,
   "id": "98df6e67",
   "metadata": {
    "nterop": {
     "id": "51"
    }
   },
   "outputs": [],
   "source": [
    "assert paragraph_cnts.sum() == 1_099_066"
   ]
  },
  {
   "attachments": {},
   "cell_type": "markdown",
   "id": "ab2a20b3",
   "metadata": {
    "nterop": {
     "id": "52"
    }
   },
   "source": [
    "## Some learnings\n",
    "- `rank_bm25` is very memory hungry and single-threaded\n",
    "- found a BM25 implementation built on top of sklearn's `TfidfVectorizer`. Still single-threaded but is not densely stored so it had 1/5 of the `rank_bm25` memory footprint for the full Wiki index.\n",
    "- sharing the index with `joblib`'s `sharedmem` to run parallel queries. Also querying using the sklearn version is ~ 10x faster.\n",
    "- `pyserini` has a pre-built [`enwiki-paragraphs`](https://github.com/castorini/pyserini/blob/master/docs/prebuilt-indexes.md) index. It's 15GB to download and has very little memory footprint. Queries run in less than a second. But I couldn't figure out how to map the retrieved indices back to the DPH Wiki dumps so abandoned this."
   ]
  },
  {
   "cell_type": "code",
   "execution_count": 50,
   "id": "0af957b9",
   "metadata": {
    "nterop": {
     "id": "53"
    }
   },
   "outputs": [],
   "source": [
    "!tar -czf wiki7500.tar.gz wiki_cache"
   ]
  },
  {
   "cell_type": "code",
   "execution_count": 51,
   "id": "3516148f",
   "metadata": {
    "nterop": {
     "id": "54"
    }
   },
   "outputs": [
    {
     "name": "stdout",
     "output_type": "stream",
     "text": [
      "-rw-r--r-- 1 root root 599M May 28 04:36 wiki7500.tar.gz\r\n"
     ]
    }
   ],
   "source": [
    "!ls -lh wiki7500.tar.gz"
   ]
  }
 ],
 "metadata": {
  "hide_input": false,
  "kernelspec": {
   "display_name": "Python 3",
   "language": "python",
   "name": "python3"
  },
  "language_info": {
   "codemirror_mode": {
    "name": "ipython",
    "version": 3
   },
   "file_extension": ".py",
   "mimetype": "text/x-python",
   "name": "python",
   "nbconvert_exporter": "python",
   "pygments_lexer": "ipython3",
   "version": "3.7.10"
  },
  "nterop": {
   "seedId": "54"
  }
 },
 "nbformat": 4,
 "nbformat_minor": 5
}
