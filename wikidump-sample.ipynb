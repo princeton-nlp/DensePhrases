{
 "cells": [
  {
   "cell_type": "code",
   "execution_count": null,
   "id": "1d2316d6",
   "metadata": {
    "nterop": {
     "id": "1"
    }
   },
   "outputs": [],
   "source": [
    "# !pip3 install -q rank_bm25"
   ]
  },
  {
   "cell_type": "code",
   "execution_count": 21,
   "id": "e861b2eb",
   "metadata": {
    "nterop": {
     "id": "89"
    }
   },
   "outputs": [],
   "source": [
    "from densePhrases.scripts.sampler import QAWikiDumpSampler"
   ]
  },
  {
   "attachments": {},
   "cell_type": "markdown",
   "id": "48ee6adf",
   "metadata": {
    "nterop": {
     "id": "5"
    }
   },
   "source": [
    "### params"
   ]
  },
  {
   "cell_type": "code",
   "execution_count": 22,
   "id": "b6d10f2f",
   "metadata": {
    "nterop": {
     "id": "6"
    }
   },
   "outputs": [],
   "source": [
    "opennq_path = 'train_preprocessed.json'\n",
    "wiki_dev_path = 'dev_wiki'\n",
    "wiki_full_path = '/data/dph-data/wikidump/20181220_concat'\n",
    "wiki_cache = 'wiki_cache'\n",
    "pwd = '/root/notebooks/scratchpad'\n",
    "wiki_dump_path_csv = f'{wiki_cache}/wiki_dump.csv'"
   ]
  },
  {
   "attachments": {},
   "cell_type": "markdown",
   "id": "a58c047a",
   "metadata": {
    "nterop": {
     "id": "7"
    }
   },
   "source": [
    "### get question / answers"
   ]
  },
  {
   "cell_type": "code",
   "execution_count": 23,
   "id": "3d812be7",
   "metadata": {
    "nterop": {
     "id": "90"
    }
   },
   "outputs": [
    {
     "name": "stdout",
     "output_type": "stream",
     "text": [
      "CPU times: user 10.9 s, sys: 661 ms, total: 11.5 s\n",
      "Wall time: 11.5 s\n"
     ]
    }
   ],
   "source": [
    "%%time\n",
    "sampler_dev = QAWikiDumpSampler(\n",
    "    path_qa=opennq_path,\n",
    "    path_wiki=wiki_dev_path,\n",
    "    path_cache='wiki_cache_dev',\n",
    ")"
   ]
  },
  {
   "cell_type": "code",
   "execution_count": 24,
   "id": "98de776f",
   "metadata": {
    "nterop": {
     "id": "91"
    }
   },
   "outputs": [],
   "source": [
    "df_nq = sampler_dev.df_qa"
   ]
  },
  {
   "cell_type": "code",
   "execution_count": 25,
   "id": "27b40c91",
   "metadata": {
    "nterop": {
     "id": "12"
    }
   },
   "outputs": [
    {
     "data": {
      "text/plain": [
       "79168"
      ]
     },
     "execution_count": 25,
     "metadata": {
      "nterop": {
       "id": "92"
      }
     },
     "output_type": "execute_result"
    }
   ],
   "source": [
    "len(df_nq)"
   ]
  },
  {
   "cell_type": "code",
   "execution_count": 26,
   "id": "e23d28a9",
   "metadata": {
    "nterop": {
     "id": "14"
    }
   },
   "outputs": [
    {
     "data": {
      "text/plain": [
       "96676"
      ]
     },
     "execution_count": 26,
     "metadata": {
      "nterop": {
       "id": "93"
      }
     },
     "output_type": "execute_result"
    }
   ],
   "source": [
    "df_nq.answer_cnt.sum()"
   ]
  },
  {
   "cell_type": "code",
   "execution_count": 27,
   "id": "e1aecd9b",
   "metadata": {
    "nterop": {
     "id": "16"
    }
   },
   "outputs": [
    {
     "data": {
      "text/html": [
       "<div>\n",
       "<style scoped>\n",
       "    .dataframe tbody tr th:only-of-type {\n",
       "        vertical-align: middle;\n",
       "    }\n",
       "\n",
       "    .dataframe tbody tr th {\n",
       "        vertical-align: top;\n",
       "    }\n",
       "\n",
       "    .dataframe thead th {\n",
       "        text-align: right;\n",
       "    }\n",
       "</style>\n",
       "<table border=\"1\" class=\"dataframe\">\n",
       "  <thead>\n",
       "    <tr style=\"text-align: right;\">\n",
       "      <th></th>\n",
       "      <th>id</th>\n",
       "      <th>question</th>\n",
       "      <th>answer_cnt</th>\n",
       "      <th>answers</th>\n",
       "    </tr>\n",
       "  </thead>\n",
       "  <tbody>\n",
       "    <tr>\n",
       "      <th>937</th>\n",
       "      <td>train_937</td>\n",
       "      <td>what side of the road to they drive on in aust...</td>\n",
       "      <td>1</td>\n",
       "      <td>[on the left]</td>\n",
       "    </tr>\n",
       "    <tr>\n",
       "      <th>46520</th>\n",
       "      <td>train_46520</td>\n",
       "      <td>who wrote the song when we by tank</td>\n",
       "      <td>3</td>\n",
       "      <td>[Carl McCormick, Johnnie Newt, Durrell Babbs]</td>\n",
       "    </tr>\n",
       "    <tr>\n",
       "      <th>65747</th>\n",
       "      <td>train_65747</td>\n",
       "      <td>when does the new series of ex on the beach st...</td>\n",
       "      <td>1</td>\n",
       "      <td>[20 March 2018]</td>\n",
       "    </tr>\n",
       "    <tr>\n",
       "      <th>17428</th>\n",
       "      <td>train_17428</td>\n",
       "      <td>who played uncle arthur in the comedy company</td>\n",
       "      <td>1</td>\n",
       "      <td>[Glenn Robbins]</td>\n",
       "    </tr>\n",
       "    <tr>\n",
       "      <th>32582</th>\n",
       "      <td>train_32582</td>\n",
       "      <td>where do chicken wings and drumettes come from</td>\n",
       "      <td>1</td>\n",
       "      <td>[chicken wing section]</td>\n",
       "    </tr>\n",
       "    <tr>\n",
       "      <th>64736</th>\n",
       "      <td>train_64736</td>\n",
       "      <td>where is pepsin most active in the body</td>\n",
       "      <td>1</td>\n",
       "      <td>[stomach]</td>\n",
       "    </tr>\n",
       "    <tr>\n",
       "      <th>50023</th>\n",
       "      <td>train_50023</td>\n",
       "      <td>surname of woman who owns pie shop in sweeny todd</td>\n",
       "      <td>1</td>\n",
       "      <td>[Lovett]</td>\n",
       "    </tr>\n",
       "    <tr>\n",
       "      <th>54540</th>\n",
       "      <td>train_54540</td>\n",
       "      <td>who is the actress who plays alex on big bang ...</td>\n",
       "      <td>1</td>\n",
       "      <td>[Margo Cathleen Harshman]</td>\n",
       "    </tr>\n",
       "    <tr>\n",
       "      <th>16277</th>\n",
       "      <td>train_16277</td>\n",
       "      <td>where is white matter located in spinal cord</td>\n",
       "      <td>1</td>\n",
       "      <td>[superficial parts]</td>\n",
       "    </tr>\n",
       "    <tr>\n",
       "      <th>16202</th>\n",
       "      <td>train_16202</td>\n",
       "      <td>who sings the theme song for touched by an angel</td>\n",
       "      <td>1</td>\n",
       "      <td>[Della Reese]</td>\n",
       "    </tr>\n",
       "  </tbody>\n",
       "</table>\n",
       "</div>"
      ],
      "text/plain": [
       "                id                                           question  \\\n",
       "937      train_937  what side of the road to they drive on in aust...   \n",
       "46520  train_46520                 who wrote the song when we by tank   \n",
       "65747  train_65747  when does the new series of ex on the beach st...   \n",
       "17428  train_17428      who played uncle arthur in the comedy company   \n",
       "32582  train_32582     where do chicken wings and drumettes come from   \n",
       "64736  train_64736            where is pepsin most active in the body   \n",
       "50023  train_50023  surname of woman who owns pie shop in sweeny todd   \n",
       "54540  train_54540  who is the actress who plays alex on big bang ...   \n",
       "16277  train_16277       where is white matter located in spinal cord   \n",
       "16202  train_16202   who sings the theme song for touched by an angel   \n",
       "\n",
       "       answer_cnt                                        answers  \n",
       "937             1                                  [on the left]  \n",
       "46520           3  [Carl McCormick, Johnnie Newt, Durrell Babbs]  \n",
       "65747           1                                [20 March 2018]  \n",
       "17428           1                                [Glenn Robbins]  \n",
       "32582           1                         [chicken wing section]  \n",
       "64736           1                                      [stomach]  \n",
       "50023           1                                       [Lovett]  \n",
       "54540           1                      [Margo Cathleen Harshman]  \n",
       "16277           1                            [superficial parts]  \n",
       "16202           1                                  [Della Reese]  "
      ]
     },
     "execution_count": 27,
     "metadata": {
      "nterop": {
       "id": "94"
      }
     },
     "output_type": "execute_result"
    }
   ],
   "source": [
    "df_nq.sample(n=10, random_state=0)"
   ]
  },
  {
   "cell_type": "code",
   "execution_count": 28,
   "id": "2c920216",
   "metadata": {
    "nterop": {
     "id": "22"
    }
   },
   "outputs": [
    {
     "data": {
      "image/png": "[encoded data removed]",
      "text/plain": [
       "<Figure size 432x288 with 1 Axes>"
      ]
     },
     "metadata": {
      "needs_background": "light",
      "nterop": {
       "id": "95"
      }
     },
     "output_type": "display_data"
    }
   ],
   "source": [
    "_ = df_nq.answer_cnt.hist()"
   ]
  },
  {
   "attachments": {},
   "cell_type": "markdown",
   "id": "1a9ab427",
   "metadata": {
    "nterop": {
     "id": "24"
    }
   },
   "source": [
    "### wiki dump"
   ]
  },
  {
   "cell_type": "code",
   "execution_count": 29,
   "id": "f9b6bb18",
   "metadata": {
    "nterop": {
     "id": "96"
    }
   },
   "outputs": [],
   "source": [
    "df_wiki_dev = sampler_dev.df_wiki"
   ]
  },
  {
   "cell_type": "code",
   "execution_count": 30,
   "id": "5fc16f2e",
   "metadata": {
    "nterop": {
     "id": "33"
    }
   },
   "outputs": [
    {
     "data": {
      "text/plain": [
       "count    129730.000000\n",
       "mean         42.838973\n",
       "std          33.365861\n",
       "min           1.000000\n",
       "25%          18.000000\n",
       "50%          35.000000\n",
       "75%          58.000000\n",
       "max         206.000000\n",
       "Name: paragraph_cnt, dtype: float64"
      ]
     },
     "execution_count": 30,
     "metadata": {
      "nterop": {
       "id": "97"
      }
     },
     "output_type": "execute_result"
    }
   ],
   "source": [
    "df_wiki_dev.paragraph_cnt.describe()"
   ]
  },
  {
   "cell_type": "code",
   "execution_count": 31,
   "id": "b99aca88",
   "metadata": {
    "nterop": {
     "id": "35"
    }
   },
   "outputs": [
    {
     "data": {
      "text/html": [
       "<div>\n",
       "<style scoped>\n",
       "    .dataframe tbody tr th:only-of-type {\n",
       "        vertical-align: middle;\n",
       "    }\n",
       "\n",
       "    .dataframe tbody tr th {\n",
       "        vertical-align: top;\n",
       "    }\n",
       "\n",
       "    .dataframe thead th {\n",
       "        text-align: right;\n",
       "    }\n",
       "</style>\n",
       "<table border=\"1\" class=\"dataframe\">\n",
       "  <thead>\n",
       "    <tr style=\"text-align: right;\">\n",
       "      <th></th>\n",
       "      <th>file</th>\n",
       "      <th>file_idx</th>\n",
       "      <th>article_idx</th>\n",
       "      <th>paragraph_idx</th>\n",
       "      <th>title</th>\n",
       "      <th>paragraph_cnt</th>\n",
       "      <th>paragraph</th>\n",
       "      <th>paragraph_char_cnt</th>\n",
       "    </tr>\n",
       "  </thead>\n",
       "  <tbody>\n",
       "    <tr>\n",
       "      <th>44091</th>\n",
       "      <td>dev_wiki/0002</td>\n",
       "      <td>2</td>\n",
       "      <td>417</td>\n",
       "      <td>23</td>\n",
       "      <td>Dutch language</td>\n",
       "      <td>69</td>\n",
       "      <td>Limburgish has the status of official regiona...</td>\n",
       "      <td>711</td>\n",
       "    </tr>\n",
       "    <tr>\n",
       "      <th>1665</th>\n",
       "      <td>dev_wiki/0000</td>\n",
       "      <td>0</td>\n",
       "      <td>84</td>\n",
       "      <td>21</td>\n",
       "      <td>History of construction</td>\n",
       "      <td>47</td>\n",
       "      <td>Vitruvius gives details of many Roman machine...</td>\n",
       "      <td>1052</td>\n",
       "    </tr>\n",
       "    <tr>\n",
       "      <th>65279</th>\n",
       "      <td>dev_wiki/0003</td>\n",
       "      <td>3</td>\n",
       "      <td>582</td>\n",
       "      <td>23</td>\n",
       "      <td>Continent</td>\n",
       "      <td>28</td>\n",
       "      <td>Some argue that continents are accretionary c...</td>\n",
       "      <td>649</td>\n",
       "    </tr>\n",
       "  </tbody>\n",
       "</table>\n",
       "</div>"
      ],
      "text/plain": [
       "                file  file_idx  article_idx  paragraph_idx  \\\n",
       "44091  dev_wiki/0002         2          417             23   \n",
       "1665   dev_wiki/0000         0           84             21   \n",
       "65279  dev_wiki/0003         3          582             23   \n",
       "\n",
       "                         title  paragraph_cnt  \\\n",
       "44091           Dutch language             69   \n",
       "1665   History of construction             47   \n",
       "65279                Continent             28   \n",
       "\n",
       "                                               paragraph  paragraph_char_cnt  \n",
       "44091   Limburgish has the status of official regiona...                 711  \n",
       "1665    Vitruvius gives details of many Roman machine...                1052  \n",
       "65279   Some argue that continents are accretionary c...                 649  "
      ]
     },
     "execution_count": 31,
     "metadata": {
      "nterop": {
       "id": "98"
      }
     },
     "output_type": "execute_result"
    }
   ],
   "source": [
    "df_wiki_dev.sample(3, random_state=0)"
   ]
  },
  {
   "cell_type": "code",
   "execution_count": 32,
   "id": "de876186",
   "metadata": {
    "nterop": {
     "id": "37"
    }
   },
   "outputs": [
    {
     "data": {
      "text/plain": [
       "List of Madagascar (franchise) characters                         206\n",
       "Economic history of the United States                             195\n",
       "List of Kung Fu Panda characters                                  190\n",
       "Reconstruction Era                                                188\n",
       "Iran–Iraq War                                                     175\n",
       "                                                                 ... \n",
       "Even the Man in the Moon Is Cryin'                                  1\n",
       "List of airports in Antigua and Barbuda                             1\n",
       "List of flag bearers for Canada at the Olympics                     1\n",
       "List of European Cup and UEFA Champions League winning players      1\n",
       "Sharon Warren                                                       1\n",
       "Name: title, Length: 7136, dtype: int64"
      ]
     },
     "execution_count": 32,
     "metadata": {
      "nterop": {
       "id": "99"
      }
     },
     "output_type": "execute_result"
    }
   ],
   "source": [
    "df_wiki_dev.title.value_counts()"
   ]
  },
  {
   "cell_type": "code",
   "execution_count": 33,
   "id": "7fbe4ff8",
   "metadata": {
    "nterop": {
     "id": "100"
    }
   },
   "outputs": [
    {
     "data": {
      "text/html": [
       "<div>\n",
       "<style scoped>\n",
       "    .dataframe tbody tr th:only-of-type {\n",
       "        vertical-align: middle;\n",
       "    }\n",
       "\n",
       "    .dataframe tbody tr th {\n",
       "        vertical-align: top;\n",
       "    }\n",
       "\n",
       "    .dataframe thead th {\n",
       "        text-align: right;\n",
       "    }\n",
       "</style>\n",
       "<table border=\"1\" class=\"dataframe\">\n",
       "  <thead>\n",
       "    <tr style=\"text-align: right;\">\n",
       "      <th></th>\n",
       "      <th>file</th>\n",
       "      <th>file_idx</th>\n",
       "      <th>article_idx</th>\n",
       "      <th>paragraph_idx</th>\n",
       "      <th>title</th>\n",
       "      <th>paragraph_cnt</th>\n",
       "      <th>paragraph</th>\n",
       "      <th>paragraph_char_cnt</th>\n",
       "    </tr>\n",
       "  </thead>\n",
       "  <tbody>\n",
       "    <tr>\n",
       "      <th>0</th>\n",
       "      <td>dev_wiki/0000</td>\n",
       "      <td>0</td>\n",
       "      <td>93</td>\n",
       "      <td>59</td>\n",
       "      <td>List of Kung Fu Panda characters</td>\n",
       "      <td>190</td>\n",
       "      <td>Master Sheep is a Kung Fu Master who was amon...</td>\n",
       "      <td>629</td>\n",
       "    </tr>\n",
       "    <tr>\n",
       "      <th>1</th>\n",
       "      <td>dev_wiki/0001</td>\n",
       "      <td>1</td>\n",
       "      <td>166</td>\n",
       "      <td>10</td>\n",
       "      <td>The Karate Kid (2010 film)</td>\n",
       "      <td>18</td>\n",
       "      <td>Despite maintaining the original title, the 2...</td>\n",
       "      <td>612</td>\n",
       "    </tr>\n",
       "    <tr>\n",
       "      <th>2</th>\n",
       "      <td>dev_wiki/0000</td>\n",
       "      <td>0</td>\n",
       "      <td>93</td>\n",
       "      <td>51</td>\n",
       "      <td>List of Kung Fu Panda characters</td>\n",
       "      <td>190</td>\n",
       "      <td>Master Boar later appeared in \"\" as a playabl...</td>\n",
       "      <td>698</td>\n",
       "    </tr>\n",
       "    <tr>\n",
       "      <th>3</th>\n",
       "      <td>dev_wiki/0000</td>\n",
       "      <td>0</td>\n",
       "      <td>93</td>\n",
       "      <td>54</td>\n",
       "      <td>List of Kung Fu Panda characters</td>\n",
       "      <td>190</td>\n",
       "      <td>Master Leopard is a Kung Fu Master who is bri...</td>\n",
       "      <td>596</td>\n",
       "    </tr>\n",
       "    <tr>\n",
       "      <th>4</th>\n",
       "      <td>dev_wiki/0000</td>\n",
       "      <td>0</td>\n",
       "      <td>93</td>\n",
       "      <td>68</td>\n",
       "      <td>List of Kung Fu Panda characters</td>\n",
       "      <td>190</td>\n",
       "      <td>Master Kweng (Chinese for \"Kaunda\") is a Kung...</td>\n",
       "      <td>953</td>\n",
       "    </tr>\n",
       "  </tbody>\n",
       "</table>\n",
       "</div>"
      ],
      "text/plain": [
       "            file  file_idx  article_idx  paragraph_idx  \\\n",
       "0  dev_wiki/0000         0           93             59   \n",
       "1  dev_wiki/0001         1          166             10   \n",
       "2  dev_wiki/0000         0           93             51   \n",
       "3  dev_wiki/0000         0           93             54   \n",
       "4  dev_wiki/0000         0           93             68   \n",
       "\n",
       "                              title  paragraph_cnt  \\\n",
       "0  List of Kung Fu Panda characters            190   \n",
       "1        The Karate Kid (2010 film)             18   \n",
       "2  List of Kung Fu Panda characters            190   \n",
       "3  List of Kung Fu Panda characters            190   \n",
       "4  List of Kung Fu Panda characters            190   \n",
       "\n",
       "                                           paragraph  paragraph_char_cnt  \n",
       "0   Master Sheep is a Kung Fu Master who was amon...                 629  \n",
       "1   Despite maintaining the original title, the 2...                 612  \n",
       "2   Master Boar later appeared in \"\" as a playabl...                 698  \n",
       "3   Master Leopard is a Kung Fu Master who is bri...                 596  \n",
       "4   Master Kweng (Chinese for \"Kaunda\") is a Kung...                 953  "
      ]
     },
     "execution_count": 33,
     "metadata": {
      "nterop": {
       "id": "101"
      }
     },
     "output_type": "execute_result"
    }
   ],
   "source": [
    "sampler_dev.query('kung fu', top_n=5)"
   ]
  },
  {
   "cell_type": "code",
   "execution_count": 34,
   "id": "71c0b187",
   "metadata": {
    "nterop": {
     "id": "102"
    }
   },
   "outputs": [
    {
     "data": {
      "text/plain": [
       "{Paragraph(article=Article(file='dev_wiki/0000', file_idx=0, article_idx=93), paragraph_idx=51),\n",
       " Paragraph(article=Article(file='dev_wiki/0000', file_idx=0, article_idx=93), paragraph_idx=59),\n",
       " Paragraph(article=Article(file='dev_wiki/0001', file_idx=1, article_idx=166), paragraph_idx=10)}"
      ]
     },
     "execution_count": 34,
     "metadata": {
      "nterop": {
       "id": "103"
      }
     },
     "output_type": "execute_result"
    }
   ],
   "source": [
    "sampler_dev.query('kung fu', top_n=3, return_df=False)"
   ]
  },
  {
   "cell_type": "code",
   "execution_count": 35,
   "id": "af2edb6b",
   "metadata": {
    "nterop": {
     "id": "104"
    }
   },
   "outputs": [],
   "source": [
    "res = sampler_dev.process_queries(10, n_jobs=-1)"
   ]
  },
  {
   "cell_type": "code",
   "execution_count": 36,
   "id": "4d65a7bd",
   "metadata": {
    "nterop": {
     "id": "105"
    }
   },
   "outputs": [
    {
     "data": {
      "text/plain": [
       "1986"
      ]
     },
     "execution_count": 36,
     "metadata": {
      "nterop": {
       "id": "106"
      }
     },
     "output_type": "execute_result"
    }
   ],
   "source": [
    "res.paragraph_cnt"
   ]
  },
  {
   "cell_type": "code",
   "execution_count": 37,
   "id": "94c4018b",
   "metadata": {
    "nterop": {
     "id": "107"
    }
   },
   "outputs": [
    {
     "data": {
      "text/plain": [
       "1222"
      ]
     },
     "execution_count": 37,
     "metadata": {
      "nterop": {
       "id": "108"
      }
     },
     "output_type": "execute_result"
    }
   ],
   "source": [
    "res.article_cnt"
   ]
  },
  {
   "attachments": {},
   "cell_type": "markdown",
   "id": "a8b57ccd",
   "metadata": {
    "nterop": {
     "id": "46"
    }
   },
   "source": [
    "### full wikipedia dump"
   ]
  },
  {
   "cell_type": "code",
   "execution_count": null,
   "id": "602779bb",
   "metadata": {
    "nterop": {
     "id": "109"
    }
   },
   "outputs": [],
   "source": [
    "%%time\n",
    "sampler = QAWikiDumpSampler(\n",
    "    path_qa=opennq_path,\n",
    "    path_wiki=wiki_full_path,\n",
    "    path_cache='wiki_cache',\n",
    "    clear_cache=True,\n",
    ")"
   ]
  },
  {
   "cell_type": "code",
   "execution_count": null,
   "id": "1d3bb684",
   "metadata": {
    "nterop": {
     "id": "110"
    }
   },
   "outputs": [],
   "source": []
  }
 ],
 "metadata": {
  "hide_input": false,
  "kernelspec": {
   "display_name": "Python 3",
   "language": "python",
   "name": "python3"
  },
  "language_info": {
   "codemirror_mode": {
    "name": "ipython",
    "version": 3
   },
   "file_extension": ".py",
   "mimetype": "text/x-python",
   "name": "python",
   "nbconvert_exporter": "python",
   "pygments_lexer": "ipython3",
   "version": "3.7.10"
  },
  "nterop": {
   "seedId": "110"
  }
 },
 "nbformat": 4,
 "nbformat_minor": 5
}
