{
 "cells": [
  {
   "cell_type": "code",
   "execution_count": 1,
   "id": "66435d2f",
   "metadata": {
    "nterop": {
     "id": "1"
    }
   },
   "outputs": [],
   "source": [
    "import json\n",
    "from functools import partial\n",
    "from pathlib import Path\n",
    "from typing import Dict, List, Tuple\n",
    "\n",
    "from sklearn.model_selection import train_test_split"
   ]
  },
  {
   "attachments": {},
   "cell_type": "markdown",
   "id": "ccdc79a5",
   "metadata": {
    "nterop": {
     "id": "2"
    }
   },
   "source": [
    "### helpers"
   ]
  },
  {
   "cell_type": "code",
   "execution_count": 2,
   "id": "ae02a743",
   "metadata": {
    "nterop": {
     "id": "3"
    }
   },
   "outputs": [],
   "source": [
    "Data = List[Dict]\n",
    "\n",
    "def _write_json_file(data: Data, split: str, path_base: str) -> None:\n",
    "    path = Path(path_base) / Path(f\"{split}.json\")\n",
    "    path.parent.mkdir(exist_ok=True)\n",
    "    json.dump(data, open(path, 'w'))\n",
    "\n",
    "def write_splits(\n",
    "    data: Data,\n",
    "    split_ratios: Dict[str, float],\n",
    "    write_dir: str,\n",
    ") -> Tuple[Data, Data, Data]:\n",
    "    assert sum(split_ratios.values()) == 1\n",
    "    split_fn = partial(train_test_split, random_state=random_state)\n",
    "    n = len(data)\n",
    "    # split\n",
    "    data_train, data_rest = split_fn(data, train_size=split_ratios[\"train\"])\n",
    "    data_dev, data_test = split_fn(data_rest, train_size=int(split_ratios[\"dev\"] * n))\n",
    "    # sanity checks\n",
    "    n_train, n_dev, n_test = len(data_train), len(data_dev), len(data_test)\n",
    "    n_total = n_train + n_dev + n_test\n",
    "    assert n_total == n\n",
    "    print(f'train: {n_train}, dev: {n_dev}, test: {n_test}, total = {n_total}')\n",
    "    # write out\n",
    "    for data, split in [(data_train, 'train'), (data_dev, 'dev'), (data_test, 'test')]:\n",
    "        _write_json_file(data, split, write_dir)\n",
    "    return data_train, data_dev, data_test"
   ]
  },
  {
   "attachments": {},
   "cell_type": "markdown",
   "id": "94e1f341",
   "metadata": {
    "nterop": {
     "id": "4"
    }
   },
   "source": [
    "### params"
   ]
  },
  {
   "cell_type": "code",
   "execution_count": 3,
   "id": "63b3dec9",
   "metadata": {
    "nterop": {
     "id": "5"
    }
   },
   "outputs": [],
   "source": [
    "path = 'train_preprocessed.json'\n",
    "n = 7_500  # number of NQ questions we're using\n",
    "split_ratios = {\n",
    "    'train': .8,\n",
    "    'dev': .1,\n",
    "    'test': .1,\n",
    "}\n",
    "random_state = 0\n",
    "path_output = 'splits_7500'"
   ]
  },
  {
   "attachments": {},
   "cell_type": "markdown",
   "id": "3a280d80",
   "metadata": {
    "nterop": {
     "id": "6"
    }
   },
   "source": [
    "### get data"
   ]
  },
  {
   "cell_type": "code",
   "execution_count": 4,
   "id": "5d90e902",
   "metadata": {
    "nterop": {
     "id": "7"
    }
   },
   "outputs": [
    {
     "name": "stdout",
     "output_type": "stream",
     "text": [
      "train: 6000, dev: 750, test: 750, total = 7500\n"
     ]
    }
   ],
   "source": [
    "data = json.load(open(path))['data'][:n]\n",
    "assert len(data) == n\n",
    "train, dev, test = write_splits(data, split_ratios, path_output)"
   ]
  },
  {
   "cell_type": "code",
   "execution_count": 5,
   "id": "ffba04be",
   "metadata": {
    "nterop": {
     "id": "8"
    }
   },
   "outputs": [
    {
     "name": "stdout",
     "output_type": "stream",
     "text": [
      "total 876K\r\n",
      "-rw-r--r-- 1 root root  87K May 28 18:50 dev.json\r\n",
      "-rw-r--r-- 1 root root  87K May 28 18:50 test.json\r\n",
      "-rw-r--r-- 1 root root 698K May 28 18:50 train.json\r\n"
     ]
    }
   ],
   "source": [
    "!ls -lh $path_output"
   ]
  },
  {
   "attachments": {},
   "cell_type": "markdown",
   "id": "07041b94",
   "metadata": {
    "nterop": {
     "id": "9"
    }
   },
   "source": [
    "### sanity check"
   ]
  },
  {
   "cell_type": "code",
   "execution_count": 6,
   "id": "25005226",
   "metadata": {
    "nterop": {
     "id": "10"
    }
   },
   "outputs": [],
   "source": [
    "for split, data in [('train', train), ('dev', dev), ('test', test)]:\n",
    "    assert json.load(open(f'{path_output}/{split}.json')) == data, split"
   ]
  },
  {
   "attachments": {},
   "cell_type": "markdown",
   "id": "14b28ba0",
   "metadata": {
    "nterop": {
     "id": "11"
    }
   },
   "source": [
    "### sample data"
   ]
  },
  {
   "cell_type": "code",
   "execution_count": 7,
   "id": "9730594d",
   "metadata": {
    "nterop": {
     "id": "12"
    }
   },
   "outputs": [
    {
     "data": {
      "text/plain": [
       "[{'id': 'train_1328',\n",
       "  'question': 'when does season 2 episode 3 of escape the night come out',\n",
       "  'answers': ['June 28 , 2017']},\n",
       " {'id': 'train_2368',\n",
       "  'question': 'who is the actress that plays in the new wonder woman',\n",
       "  'answers': ['Gal Gadot']},\n",
       " {'id': 'train_4113',\n",
       "  'question': 'what year did us land on the moon',\n",
       "  'answers': ['20 July 1969']}]"
      ]
     },
     "execution_count": 7,
     "metadata": {
      "nterop": {
       "id": "13"
      }
     },
     "output_type": "execute_result"
    }
   ],
   "source": [
    "train[:3]"
   ]
  },
  {
   "cell_type": "code",
   "execution_count": 8,
   "id": "e95fc92a",
   "metadata": {
    "nterop": {
     "id": "14"
    }
   },
   "outputs": [
    {
     "data": {
      "text/plain": [
       "[{'id': 'train_5909',\n",
       "  'question': 'how did the lost voice guy lose his voice',\n",
       "  'answers': ['neurological form of cerebral palsy']},\n",
       " {'id': 'train_6441',\n",
       "  'question': 'who took power in england during the glorious revolution brainly',\n",
       "  'answers': ['William III']},\n",
       " {'id': 'train_4802',\n",
       "  'question': \"who sang i've got a brand new pair of roller skates\",\n",
       "  'answers': ['folk music singer Melanie']}]"
      ]
     },
     "execution_count": 8,
     "metadata": {
      "nterop": {
       "id": "15"
      }
     },
     "output_type": "execute_result"
    }
   ],
   "source": [
    "dev[:3]"
   ]
  },
  {
   "cell_type": "code",
   "execution_count": 9,
   "id": "a2d691d4",
   "metadata": {
    "nterop": {
     "id": "16"
    }
   },
   "outputs": [
    {
     "data": {
      "text/plain": [
       "[{'id': 'train_5418',\n",
       "  'question': 'four aspects of being an australian that are tested in the australian citizenship test',\n",
       "  'answers': ['English language',\n",
       "   'traditional and national symbols',\n",
       "   \"Australia 's `` values ''\",\n",
       "   'history']},\n",
       " {'id': 'train_1933',\n",
       "  'question': 'when was the last time the us hosted the world cup',\n",
       "  'answers': ['1994']},\n",
       " {'id': 'train_4554',\n",
       "  'question': 'whose line is it anyway how many seasons',\n",
       "  'answers': ['14']}]"
      ]
     },
     "execution_count": 9,
     "metadata": {
      "nterop": {
       "id": "17"
      }
     },
     "output_type": "execute_result"
    }
   ],
   "source": [
    "test[:3]"
   ]
  },
  {
   "cell_type": "code",
   "execution_count": null,
   "id": "c8d9b417",
   "metadata": {
    "nterop": {
     "id": "18"
    }
   },
   "outputs": [],
   "source": []
  }
 ],
 "metadata": {
  "hide_input": false,
  "kernelspec": {
   "display_name": "Python 3",
   "language": "python",
   "name": "python3"
  },
  "language_info": {
   "codemirror_mode": {
    "name": "ipython",
    "version": 3
   },
   "file_extension": ".py",
   "mimetype": "text/x-python",
   "name": "python",
   "nbconvert_exporter": "python",
   "pygments_lexer": "ipython3",
   "version": "3.7.10"
  },
  "nterop": {
   "seedId": "18"
  }
 },
 "nbformat": 4,
 "nbformat_minor": 5
}
